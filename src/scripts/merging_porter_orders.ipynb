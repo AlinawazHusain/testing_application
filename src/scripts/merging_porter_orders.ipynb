{
 "cells": [
  {
   "cell_type": "code",
   "execution_count": 1,
   "id": "3f74af91",
   "metadata": {},
   "outputs": [],
   "source": [
    "import pandas as pd\n",
    "import os"
   ]
  },
  {
   "cell_type": "code",
   "execution_count": 2,
   "id": "0cf71718",
   "metadata": {},
   "outputs": [],
   "source": [
    "root_dir = \"D:/Porter Data\"\n",
    "files_list = os.listdir(root_dir)"
   ]
  },
  {
   "cell_type": "code",
   "execution_count": 3,
   "id": "f0ad24c7",
   "metadata": {},
   "outputs": [],
   "source": [
    "order_files = [f for f in files_list if 'order_details' in f]"
   ]
  },
  {
   "cell_type": "code",
   "execution_count": 4,
   "id": "71023c4a",
   "metadata": {},
   "outputs": [],
   "source": [
    "df_all_orders = pd.concat([pd.read_csv(f\"{root_dir}/{file}\") for file in order_files], ignore_index=True)"
   ]
  },
  {
   "cell_type": "code",
   "execution_count": 5,
   "id": "b87598e7",
   "metadata": {},
   "outputs": [
    {
     "data": {
      "text/plain": [
       "71634"
      ]
     },
     "execution_count": 5,
     "metadata": {},
     "output_type": "execute_result"
    }
   ],
   "source": [
    "len(df_all_orders)"
   ]
  },
  {
   "cell_type": "code",
   "execution_count": 6,
   "id": "eda54ade",
   "metadata": {},
   "outputs": [
    {
     "data": {
      "text/html": [
       "<div>\n",
       "<style scoped>\n",
       "    .dataframe tbody tr th:only-of-type {\n",
       "        vertical-align: middle;\n",
       "    }\n",
       "\n",
       "    .dataframe tbody tr th {\n",
       "        vertical-align: top;\n",
       "    }\n",
       "\n",
       "    .dataframe thead th {\n",
       "        text-align: right;\n",
       "    }\n",
       "</style>\n",
       "<table border=\"1\" class=\"dataframe\">\n",
       "  <thead>\n",
       "    <tr style=\"text-align: right;\">\n",
       "      <th></th>\n",
       "      <th>order_date</th>\n",
       "      <th>driver_name</th>\n",
       "      <th>driver_mobile</th>\n",
       "      <th>driver_geo_region</th>\n",
       "      <th>vehicle_number</th>\n",
       "      <th>vehicle_type</th>\n",
       "      <th>crn_order_id</th>\n",
       "      <th>pickup_address</th>\n",
       "      <th>drop_address</th>\n",
       "      <th>start_time</th>\n",
       "      <th>...</th>\n",
       "      <th>wallet_transaction</th>\n",
       "      <th>waypoint_charge</th>\n",
       "      <th>toll</th>\n",
       "      <th>overnight_charge</th>\n",
       "      <th>labor_charge</th>\n",
       "      <th>pickup_extra_charge</th>\n",
       "      <th>drop_extra_charge</th>\n",
       "      <th>helper_charge</th>\n",
       "      <th>vendor_email</th>\n",
       "      <th>cancel_reason</th>\n",
       "    </tr>\n",
       "  </thead>\n",
       "  <tbody>\n",
       "    <tr>\n",
       "      <th>0</th>\n",
       "      <td>2024-05-01</td>\n",
       "      <td>RITESH KUMAR</td>\n",
       "      <td>7011620331</td>\n",
       "      <td>Delhi NCR</td>\n",
       "      <td>DL-51-EV-4702</td>\n",
       "      <td>3 Wheeler Electric</td>\n",
       "      <td>CRN1055666398</td>\n",
       "      <td>49,  Block A,  Sector 8,  Noida,  Uttar Prades...</td>\n",
       "      <td>10004,  Motia Khan,  Sadar Bazaar,  New Delhi,...</td>\n",
       "      <td>NaT</td>\n",
       "      <td>...</td>\n",
       "      <td>NaN</td>\n",
       "      <td>NaN</td>\n",
       "      <td>NaN</td>\n",
       "      <td>NaN</td>\n",
       "      <td>NaN</td>\n",
       "      <td>NaN</td>\n",
       "      <td>NaN</td>\n",
       "      <td>NaN</td>\n",
       "      <td>info@onev.in</td>\n",
       "      <td>Driver asked me to cancel</td>\n",
       "    </tr>\n",
       "    <tr>\n",
       "      <th>1</th>\n",
       "      <td>2024-05-01</td>\n",
       "      <td>Vijay Kumar</td>\n",
       "      <td>9056874375</td>\n",
       "      <td>Chandigarh</td>\n",
       "      <td>PB-65-BG-1124</td>\n",
       "      <td>3 Wheeler Electric</td>\n",
       "      <td>CRN1093605668</td>\n",
       "      <td>Schneider Electric - Aggarwal Electric Store, ...</td>\n",
       "      <td>Beverly Golf Avenue Apartments, Jagatpura Bypa...</td>\n",
       "      <td>2024-05-01 17:32:50</td>\n",
       "      <td>...</td>\n",
       "      <td>-27.92</td>\n",
       "      <td>0.0</td>\n",
       "      <td>0.0</td>\n",
       "      <td>0.0</td>\n",
       "      <td>NaN</td>\n",
       "      <td>0.0</td>\n",
       "      <td>0.0</td>\n",
       "      <td>0.0</td>\n",
       "      <td>info@onev.in</td>\n",
       "      <td>NaN</td>\n",
       "    </tr>\n",
       "    <tr>\n",
       "      <th>2</th>\n",
       "      <td>2024-05-01</td>\n",
       "      <td>VIJAY KUMAR VERMA</td>\n",
       "      <td>9310219547</td>\n",
       "      <td>Delhi NCR</td>\n",
       "      <td>DL-51-GD-3439</td>\n",
       "      <td>3 Wheeler Electric</td>\n",
       "      <td>CRN1983267978</td>\n",
       "      <td>Red Fox Hotel, Mayur Vihar phase 3, Mayur Viha...</td>\n",
       "      <td>Green Vortex, Udyog Vihar Industrial Area Phas...</td>\n",
       "      <td>2024-05-01 12:08:56</td>\n",
       "      <td>...</td>\n",
       "      <td>-195.30</td>\n",
       "      <td>0.0</td>\n",
       "      <td>200.0</td>\n",
       "      <td>0.0</td>\n",
       "      <td>NaN</td>\n",
       "      <td>0.0</td>\n",
       "      <td>0.0</td>\n",
       "      <td>0.0</td>\n",
       "      <td>info@onev.in</td>\n",
       "      <td>NaN</td>\n",
       "    </tr>\n",
       "    <tr>\n",
       "      <th>3</th>\n",
       "      <td>2024-05-01</td>\n",
       "      <td>Ravi Shankar</td>\n",
       "      <td>7837990616</td>\n",
       "      <td>Chandigarh</td>\n",
       "      <td>CH-01-TB-0527</td>\n",
       "      <td>3 Wheeler Electric</td>\n",
       "      <td>CRN1256647190</td>\n",
       "      <td>Deepak Sales Corporation, Phase - II, Industri...</td>\n",
       "      <td>Tara Chand Jain, Sector 82, Sahibzada Ajit Sin...</td>\n",
       "      <td>2024-05-01 12:14:11</td>\n",
       "      <td>...</td>\n",
       "      <td>-43.68</td>\n",
       "      <td>0.0</td>\n",
       "      <td>0.0</td>\n",
       "      <td>0.0</td>\n",
       "      <td>NaN</td>\n",
       "      <td>0.0</td>\n",
       "      <td>0.0</td>\n",
       "      <td>0.0</td>\n",
       "      <td>info@onev.in</td>\n",
       "      <td>NaN</td>\n",
       "    </tr>\n",
       "    <tr>\n",
       "      <th>4</th>\n",
       "      <td>2024-05-01</td>\n",
       "      <td>PREM SINGH</td>\n",
       "      <td>8396824101</td>\n",
       "      <td>Delhi NCR</td>\n",
       "      <td>DL-51-EV-4712</td>\n",
       "      <td>3 Wheeler Electric</td>\n",
       "      <td>CRN1705307940</td>\n",
       "      <td>Ess Ess Ceratech, near BS Dharam Kanta, Sarurp...</td>\n",
       "      <td>Walter Furnaces, Mujesar Village, Sector 24, F...</td>\n",
       "      <td>2024-05-01 12:26:53</td>\n",
       "      <td>...</td>\n",
       "      <td>-65.40</td>\n",
       "      <td>0.0</td>\n",
       "      <td>0.0</td>\n",
       "      <td>0.0</td>\n",
       "      <td>NaN</td>\n",
       "      <td>0.0</td>\n",
       "      <td>0.0</td>\n",
       "      <td>0.0</td>\n",
       "      <td>info@onev.in</td>\n",
       "      <td>NaN</td>\n",
       "    </tr>\n",
       "  </tbody>\n",
       "</table>\n",
       "<p>5 rows × 30 columns</p>\n",
       "</div>"
      ],
      "text/plain": [
       "   order_date        driver_name  driver_mobile driver_geo_region  \\\n",
       "0  2024-05-01       RITESH KUMAR     7011620331         Delhi NCR   \n",
       "1  2024-05-01        Vijay Kumar     9056874375        Chandigarh   \n",
       "2  2024-05-01  VIJAY KUMAR VERMA     9310219547         Delhi NCR   \n",
       "3  2024-05-01       Ravi Shankar     7837990616        Chandigarh   \n",
       "4  2024-05-01         PREM SINGH     8396824101         Delhi NCR   \n",
       "\n",
       "  vehicle_number        vehicle_type   crn_order_id  \\\n",
       "0  DL-51-EV-4702  3 Wheeler Electric  CRN1055666398   \n",
       "1  PB-65-BG-1124  3 Wheeler Electric  CRN1093605668   \n",
       "2  DL-51-GD-3439  3 Wheeler Electric  CRN1983267978   \n",
       "3  CH-01-TB-0527  3 Wheeler Electric  CRN1256647190   \n",
       "4  DL-51-EV-4712  3 Wheeler Electric  CRN1705307940   \n",
       "\n",
       "                                      pickup_address  \\\n",
       "0  49,  Block A,  Sector 8,  Noida,  Uttar Prades...   \n",
       "1  Schneider Electric - Aggarwal Electric Store, ...   \n",
       "2  Red Fox Hotel, Mayur Vihar phase 3, Mayur Viha...   \n",
       "3  Deepak Sales Corporation, Phase - II, Industri...   \n",
       "4  Ess Ess Ceratech, near BS Dharam Kanta, Sarurp...   \n",
       "\n",
       "                                        drop_address           start_time  \\\n",
       "0  10004,  Motia Khan,  Sadar Bazaar,  New Delhi,...                  NaT   \n",
       "1  Beverly Golf Avenue Apartments, Jagatpura Bypa...  2024-05-01 17:32:50   \n",
       "2  Green Vortex, Udyog Vihar Industrial Area Phas...  2024-05-01 12:08:56   \n",
       "3  Tara Chand Jain, Sector 82, Sahibzada Ajit Sin...  2024-05-01 12:14:11   \n",
       "4  Walter Furnaces, Mujesar Village, Sector 24, F...  2024-05-01 12:26:53   \n",
       "\n",
       "   ... wallet_transaction waypoint_charge   toll  overnight_charge  \\\n",
       "0  ...                NaN             NaN    NaN               NaN   \n",
       "1  ...             -27.92             0.0    0.0               0.0   \n",
       "2  ...            -195.30             0.0  200.0               0.0   \n",
       "3  ...             -43.68             0.0    0.0               0.0   \n",
       "4  ...             -65.40             0.0    0.0               0.0   \n",
       "\n",
       "   labor_charge  pickup_extra_charge  drop_extra_charge  helper_charge  \\\n",
       "0           NaN                  NaN                NaN            NaN   \n",
       "1           NaN                  0.0                0.0            0.0   \n",
       "2           NaN                  0.0                0.0            0.0   \n",
       "3           NaN                  0.0                0.0            0.0   \n",
       "4           NaN                  0.0                0.0            0.0   \n",
       "\n",
       "   vendor_email              cancel_reason  \n",
       "0  info@onev.in  Driver asked me to cancel  \n",
       "1  info@onev.in                        NaN  \n",
       "2  info@onev.in                        NaN  \n",
       "3  info@onev.in                        NaN  \n",
       "4  info@onev.in                        NaN  \n",
       "\n",
       "[5 rows x 30 columns]"
      ]
     },
     "execution_count": 6,
     "metadata": {},
     "output_type": "execute_result"
    }
   ],
   "source": [
    "df_all_orders.head(5)"
   ]
  },
  {
   "cell_type": "code",
   "execution_count": 8,
   "id": "eacce93f",
   "metadata": {},
   "outputs": [],
   "source": [
    "df_all_orders = df_all_orders[df_all_orders['status']=='completed']\n",
    "df_all_orders = df_all_orders[df_all_orders['driver_geo_region']!='Chandigarh']\n"
   ]
  },
  {
   "cell_type": "code",
   "execution_count": 11,
   "id": "b6418a59",
   "metadata": {},
   "outputs": [],
   "source": [
    "df_all_orders.to_csv(\"delhiPorterData.csv\")"
   ]
  },
  {
   "cell_type": "code",
   "execution_count": 9,
   "id": "be6e71fc",
   "metadata": {},
   "outputs": [
    {
     "data": {
      "text/plain": [
       "(49234, 30)"
      ]
     },
     "execution_count": 9,
     "metadata": {},
     "output_type": "execute_result"
    }
   ],
   "source": [
    "df_all_orders.shape"
   ]
  },
  {
   "cell_type": "code",
   "execution_count": null,
   "id": "8a26a638",
   "metadata": {},
   "outputs": [],
   "source": []
  }
 ],
 "metadata": {
  "kernelspec": {
   "display_name": "Python 3",
   "language": "python",
   "name": "python3"
  },
  "language_info": {
   "codemirror_mode": {
    "name": "ipython",
    "version": 3
   },
   "file_extension": ".py",
   "mimetype": "text/x-python",
   "name": "python",
   "nbconvert_exporter": "python",
   "pygments_lexer": "ipython3",
   "version": "3.13.1"
  }
 },
 "nbformat": 4,
 "nbformat_minor": 5
}
